{
 "cells": [
  {
   "cell_type": "code",
   "execution_count": null,
   "id": "a8b4d3f2",
   "metadata": {},
   "outputs": [],
   "source": [
    "from sklearn.neighbor import KNeighborclassfier\n",
    "import numpy as np\n",
    "import pandas as pd\n",
    "from sklearn.metrics import Confusion_matrix\n"
   ]
  },
  {
   "cell_type": "code",
   "execution_count": null,
   "id": "80b77a4c",
   "metadata": {},
   "outputs": [],
   "source": [
    "data=pd.read_csv('social_network_ads.csv')"
   ]
  },
  {
   "cell_type": "code",
   "execution_count": null,
   "id": "5c67a1d3",
   "metadata": {},
   "outputs": [],
   "source": [
    "x=data.iloc[:,2:4]\n",
    "y=data.iloc[:,-1]"
   ]
  },
  {
   "cell_type": "code",
   "execution_count": null,
   "id": "096e9bde",
   "metadata": {},
   "outputs": [],
   "source": [
    "from sklearn.model_selection import train_test_split\n",
    "x_train,x_test,y_train,y_test=train_test_split(x,y,test_size=0.2)"
   ]
  },
  {
   "cell_type": "code",
   "execution_count": 1,
   "id": "c18932d6",
   "metadata": {},
   "outputs": [
    {
     "ename": "IndentationError",
     "evalue": "expected an indented block (742465550.py, line 18)",
     "output_type": "error",
     "traceback": [
      "\u001b[1;36m  File \u001b[1;32m\"C:\\Users\\JAIDEEP\\AppData\\Local\\Temp\\ipykernel_19448\\742465550.py\"\u001b[1;36m, line \u001b[1;32m18\u001b[0m\n\u001b[1;33m    \u001b[0m\n\u001b[1;37m    ^\u001b[0m\n\u001b[1;31mIndentationError\u001b[0m\u001b[1;31m:\u001b[0m expected an indented block\n"
     ]
    }
   ],
   "source": [
    "from sklearn.preprocessing import StandardScaler\n",
    "Scaler=StandardScaler()\n",
    "x_train=scaler.fit_transform(x_train)\n",
    "x_test=scaler.transform(x_test)\n",
    "\n",
    "knn=kNeighborclassfier(n_neighbor=5)\n",
    "knn.fit(x_train,y_train)\n",
    "\n",
    "def predict_new():\n",
    "    age=int(input(\"Enter the age:\"))\n",
    "    salary=int(input(\"Enter the salary:\"))\n",
    "    x_new = np.array([age],[salary]).reshape(1,2)\n",
    "    x_new=scaler.transform(x_new)\n",
    "    result=knn.predict(x_new)\n",
    "    if result==0:\n",
    "        print(\"WIll not purchase\")\n",
    "    else:\n",
    "        print(\"Will purchase\")\n",
    "predict_new()\n"
   ]
  },
  {
   "cell_type": "code",
   "execution_count": null,
   "id": "a3c270a1",
   "metadata": {},
   "outputs": [],
   "source": []
  }
 ],
 "metadata": {
  "kernelspec": {
   "display_name": "Python 3 (ipykernel)",
   "language": "python",
   "name": "python3"
  },
  "language_info": {
   "codemirror_mode": {
    "name": "ipython",
    "version": 3
   },
   "file_extension": ".py",
   "mimetype": "text/x-python",
   "name": "python",
   "nbconvert_exporter": "python",
   "pygments_lexer": "ipython3",
   "version": "3.9.13"
  }
 },
 "nbformat": 4,
 "nbformat_minor": 5
}
