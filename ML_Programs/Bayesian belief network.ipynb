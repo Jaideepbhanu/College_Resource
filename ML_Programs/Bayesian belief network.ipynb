{
 "cells": [
  {
   "cell_type": "code",
   "execution_count": 4,
   "id": "0fd057e4",
   "metadata": {},
   "outputs": [
    {
     "ename": "ModuleNotFoundError",
     "evalue": "No module named 'pgmpy'",
     "output_type": "error",
     "traceback": [
      "\u001b[1;31m---------------------------------------------------------------------------\u001b[0m",
      "\u001b[1;31mModuleNotFoundError\u001b[0m                       Traceback (most recent call last)",
      "\u001b[1;32m~\\AppData\\Local\\Temp\\ipykernel_12508\\1433650708.py\u001b[0m in \u001b[0;36m<module>\u001b[1;34m\u001b[0m\n\u001b[0;32m      1\u001b[0m \u001b[1;32mimport\u001b[0m \u001b[0mnumpy\u001b[0m \u001b[1;32mas\u001b[0m \u001b[0mnp\u001b[0m\u001b[1;33m\u001b[0m\u001b[1;33m\u001b[0m\u001b[0m\n\u001b[0;32m      2\u001b[0m \u001b[1;32mimport\u001b[0m \u001b[0mpandas\u001b[0m \u001b[1;32mas\u001b[0m \u001b[0mpd\u001b[0m\u001b[1;33m\u001b[0m\u001b[1;33m\u001b[0m\u001b[0m\n\u001b[1;32m----> 3\u001b[1;33m \u001b[1;32mfrom\u001b[0m \u001b[0mpgmpy\u001b[0m\u001b[1;33m.\u001b[0m\u001b[0mmodels\u001b[0m \u001b[1;32mimport\u001b[0m \u001b[0mBayesianModel\u001b[0m\u001b[1;33m\u001b[0m\u001b[1;33m\u001b[0m\u001b[0m\n\u001b[0m\u001b[0;32m      4\u001b[0m \u001b[1;32mfrom\u001b[0m \u001b[0mpgmpy\u001b[0m\u001b[1;33m.\u001b[0m\u001b[0minference\u001b[0m \u001b[1;32mimport\u001b[0m \u001b[0mVariableElimination\u001b[0m\u001b[1;33m\u001b[0m\u001b[1;33m\u001b[0m\u001b[0m\n\u001b[0;32m      5\u001b[0m \u001b[1;32mfrom\u001b[0m \u001b[0mpgmpy\u001b[0m\u001b[1;33m.\u001b[0m\u001b[0mestimator\u001b[0m \u001b[1;32mimport\u001b[0m \u001b[0mMaximumLikelihoodEstimator\u001b[0m\u001b[1;33m\u001b[0m\u001b[1;33m\u001b[0m\u001b[0m\n",
      "\u001b[1;31mModuleNotFoundError\u001b[0m: No module named 'pgmpy'"
     ]
    }
   ],
   "source": [
    "import numpy as np\n",
    "import pandas as pd\n",
    "from pgmpy.models import BayesianModel\n",
    "from pgmpy.inference import VariableElimination\n",
    "from pgmpy.estimator import MaximumLikelihoodEstimator\n",
    "import csv"
   ]
  },
  {
   "cell_type": "code",
   "execution_count": null,
   "id": "8f813fcb",
   "metadata": {},
   "outputs": [],
   "source": [
    "heartDisease=pd.read_csv('heart.csv')\n",
    "heartDisease=heartDisease.replace(\"?\",np.nan)\n",
    "print(heartDisease)"
   ]
  },
  {
   "cell_type": "code",
   "execution_count": null,
   "id": "8858deff",
   "metadata": {},
   "outputs": [],
   "source": [
    "print('sample instance from the given dataset')\n",
    "print(heartDisease.head())\n",
    "print('Attributes and datatypes')\n",
    "print(heartDisease.dtypes())\n"
   ]
  },
  {
   "cell_type": "code",
   "execution_count": null,
   "id": "a834600d",
   "metadata": {},
   "outputs": [],
   "source": [
    "model=BayesianModel([('age','heartdisease'),('gender','heartdisease'),('exang','heartdisease'),('heartdisease','chol')])\n",
    "model.fit(heartDisease,estimator=MaximumLikelihoodEstimator)\n",
    "print('Inference in the given data set of heartDisease')\n",
    "heartDiseasetest_infer=variableElimination(model)\n",
    "print('Probability of HeartDisease evidence = restecg')\n",
    "q1=heartDiseasetest_infer=(variables=['heartdisease'],evidence={'restecg':1})\n",
    "print(q1)\n",
    "print('Probability of HeartDisease evidence=cp')\n",
    "q2=heartDiseasetest_infer=(variables=['heartdisease'],evidence={'cp':2})\n",
    "print(q2)"
   ]
  }
 ],
 "metadata": {
  "kernelspec": {
   "display_name": "Python 3 (ipykernel)",
   "language": "python",
   "name": "python3"
  },
  "language_info": {
   "codemirror_mode": {
    "name": "ipython",
    "version": 3
   },
   "file_extension": ".py",
   "mimetype": "text/x-python",
   "name": "python",
   "nbconvert_exporter": "python",
   "pygments_lexer": "ipython3",
   "version": "3.9.13"
  }
 },
 "nbformat": 4,
 "nbformat_minor": 5
}
