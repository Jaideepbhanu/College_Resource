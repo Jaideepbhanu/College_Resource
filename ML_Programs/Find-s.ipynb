{
 "cells": [
  {
   "cell_type": "code",
   "execution_count": 1,
   "id": "48a722c9",
   "metadata": {},
   "outputs": [],
   "source": [
    "import numpy as np\n",
    "import pandas as pd"
   ]
  },
  {
   "cell_type": "code",
   "execution_count": 4,
   "id": "1b171d6d",
   "metadata": {},
   "outputs": [],
   "source": [
    "data=pd.read_csv(\"Enjoysport.csv\")\n",
    "d=np.array(data)[:,:-1]\n",
    "target=np.array(data)[:,-1]"
   ]
  },
  {
   "cell_type": "code",
   "execution_count": 17,
   "id": "08f0a16d",
   "metadata": {},
   "outputs": [
    {
     "name": "stdout",
     "output_type": "stream",
     "text": [
      "\n",
      " [['sunny' 'warm' 'Normal' 'Strong' 'Warm' 'same']\n",
      " ['sunny' 'warm' 'High' 'Strong' 'Warm' 'same']\n",
      " ['warm' 'cold' 'High' 'Strong' 'Warm' 'change']\n",
      " ['sunny' 'warm' 'High' 'Strong' 'cold' 'change']] ['yes' 'yes' 'No' 'Yes'] \n",
      "\n",
      "['sunny' 'warm' '?' 'Strong' 'Warm' 'same']\n"
     ]
    }
   ],
   "source": [
    "def train(c,t):\n",
    "    for i,val in enumerate(t):\n",
    "        if val==\"yes\":\n",
    "            specific_hypothesis=c[i].copy()\n",
    "            break\n",
    "    for i,val in enumerate(c):\n",
    "        for x in range (len(specific_hypothesis)):\n",
    "            if t[i]==\"yes\":\n",
    "                if val[x]!=specific_hypothesis[x]:\n",
    "                    specific_hypothesis[x]='?'\n",
    "            else:\n",
    "                pass\n",
    "    return specific_hypothesis\n",
    "print(\"\\n\",d,target,\"\\n\")\n",
    "print(train(d,target))\n",
    "            "
   ]
  },
  {
   "cell_type": "code",
   "execution_count": null,
   "id": "247ee221",
   "metadata": {},
   "outputs": [],
   "source": []
  }
 ],
 "metadata": {
  "kernelspec": {
   "display_name": "Python 3 (ipykernel)",
   "language": "python",
   "name": "python3"
  },
  "language_info": {
   "codemirror_mode": {
    "name": "ipython",
    "version": 3
   },
   "file_extension": ".py",
   "mimetype": "text/x-python",
   "name": "python",
   "nbconvert_exporter": "python",
   "pygments_lexer": "ipython3",
   "version": "3.9.13"
  }
 },
 "nbformat": 4,
 "nbformat_minor": 5
}
